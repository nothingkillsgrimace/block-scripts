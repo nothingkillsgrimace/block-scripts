{
 "cells": [
  {
   "cell_type": "code",
   "execution_count": 1,
   "id": "000a5027",
   "metadata": {},
   "outputs": [],
   "source": [
    "import numpy as np\n",
    "\n",
    "import _functions\n",
    "from _functions import Block_Assembler"
   ]
  },
  {
   "cell_type": "code",
   "execution_count": 2,
   "id": "61275968-5e2b-4654-a3d3-cd21f668960c",
   "metadata": {},
   "outputs": [],
   "source": [
    "filepaths={\n",
    "    'past_episodes':'/Users/bwal/Documents/Block Dump/past_eps_used/',\n",
    "    'save_path':'/Users/bwal/Documents/Block Dump/Blocks',\n",
    "    'past_bumps':'/Users/bwal/Documents/Block Dump/past_bumps_used/',\n",
    "    \n",
    "    'Adult Swim':{\n",
    "        'clips':{\n",
    "            'commercials':'/Users/bwal/Desktop/Archived Bumps & Commercials/Commercials/AS/',\n",
    "            'promos':'/Users/bwal/Desktop/Archived Bumps & Commercials/AdultSwim/Promo_Commercials/',\n",
    "            'bumps':'/Users/bwal/Desktop/Archived Bumps & Commercials/AdultSwim/Bumps/'\n",
    "        },\n",
    "        'shows':'/Volumes/Elements/Broadcast_Shows/Adult Swim/',\n",
    "    },\n",
    "    \n",
    "    'Nick at Nite':{\n",
    "        'clips':{\n",
    "            'commercials':'/Users/bwal/Desktop/Archived Bumps & Commercials/Commercials/Nick at Nite/',\n",
    "            'promos':'/Users/bwal/Desktop/Archived Bumps & Commercials/Nick at Nite/Promos/',\n",
    "            'bumps':'/Users/bwal/Desktop/Archived Bumps & Commercials/Nick at Nite/Bumps/Jingles/',\n",
    "            'schedules':'/Users/bwal/Desktop/Archived Bumps & Commercials/Nick at Nite/Bumps/'\n",
    "        },\n",
    "        'shows':'/Volumes/Elements/Broadcast_Shows/Nick at Nite/'\n",
    "    },\n",
    "    \n",
    "    'Cartoon Network':{\n",
    "        'clips':{\n",
    "            'commercials':'/Users/bwal/Desktop/Archived Bumps & Commercials/Commercials/CN/',\n",
    "            'promos_cn':'/Users/bwal/Desktop/Archived Bumps & Commercials/Cartoon Network/Promo_Commercials/',\n",
    "            'promos_ccf':'/Users/bwal/Desktop/Archived Bumps & Commercials/Cartoon Network/Promo_Commercials/CCF/Powerhouse Fridays/',\n",
    "            'promos_toonami':'/Users/bwal/Desktop/Archived Bumps & Commercials/Toonami/Promo_Commercials/TOM 3 Weekend/',\n",
    "            'bumps':'/Users/bwal/Desktop/Archived Bumps & Commercials/Cartoon Network/Bumps/CN City/'\n",
    "        },\n",
    "        'shows':'/Volumes/Elements/Broadcast_Shows/Cartoon Network',\n",
    "    },\n",
    "    \n",
    "    'Toonami':{\n",
    "    },\n",
    "    \n",
    "}"
   ]
  },
  {
   "cell_type": "code",
   "execution_count": 3,
   "id": "180364b6-2c31-4576-842e-850766809761",
   "metadata": {},
   "outputs": [],
   "source": [
    "shows=['Family Guy', 'Futurama','Robot Chicken','Harvey Birdman','Inuyasha','Cowboy Bebop','Case Closed']"
   ]
  },
  {
   "cell_type": "code",
   "execution_count": 4,
   "id": "e514ab2b-c6c4-4dce-b28c-95f3459a3071",
   "metadata": {},
   "outputs": [],
   "source": [
    "type_dict={\n",
    "    'Family Guy':'episodic',\n",
    "    'Futurama':'episodic',\n",
    "    'Robot Chicken':'episodic',\n",
    "    'Harvey Birdman':'episodic',\n",
    "    'Inuyasha':'serial',\n",
    "    'Cowboy Bebop':'serial',\n",
    "    'Case Closed':'serial'\n",
    "}"
   ]
  },
  {
   "cell_type": "code",
   "execution_count": 5,
   "id": "c411d9ca-7110-409f-9e0f-d7a80f1260a0",
   "metadata": {},
   "outputs": [],
   "source": [
    "bump_dict={\n",
    "    'as_general':{\n",
    "        'keyword':'General -',\n",
    "        'filename':'as_general.txt'\n",
    "    },\n",
    "    'as_picture':{\n",
    "        'keyword':'Bump -',\n",
    "        'filename':'as_bumps.txt'\n",
    "    }\n",
    "}"
   ]
  },
  {
   "cell_type": "code",
   "execution_count": 6,
   "id": "0c01c27f-5678-48b8-82ec-f678592f4af9",
   "metadata": {},
   "outputs": [],
   "source": [
    "block=Block_Assembler(\n",
    "    'Adult Swim',\n",
    "    filepaths,\n",
    "    shows,\n",
    "    type_dict,\n",
    "    bump_dict\n",
    ")"
   ]
  },
  {
   "cell_type": "code",
   "execution_count": 7,
   "id": "ee3c9a17-d621-4917-9127-61aed2c75bcb",
   "metadata": {
    "tags": []
   },
   "outputs": [
    {
     "name": "stdout",
     "output_type": "stream",
     "text": [
      "Done!\n"
     ]
    }
   ],
   "source": [
    "master_order=block.generate()"
   ]
  },
  {
   "cell_type": "code",
   "execution_count": 8,
   "id": "afb36519-b8f2-4364-8ec3-6ea01c3125a1",
   "metadata": {
    "tags": []
   },
   "outputs": [
    {
     "data": {
      "text/plain": [
       "['/Users/bwal/Desktop/Archived Bumps & Commercials/AdultSwim/Adult Swim Advisory.mp4',\n",
       " '/Users/bwal/Desktop/Archived Bumps & Commercials/AdultSwim/Bumps/Pool - Intro.mp4',\n",
       " '/Volumes/Elements/Broadcast_Shows/Adult Swim/Family Guy/mp4/Subsections/E068A.mp4',\n",
       " '/Users/bwal/Desktop/Archived Bumps & Commercials/AdultSwim/Bumps/General - Adult Swim Unofficial Sponsorship Kit.mp4',\n",
       " '/Users/bwal/Desktop/Archived Bumps & Commercials/Commercials/AS/2004 Xavix Bowling.mp4',\n",
       " '/Users/bwal/Desktop/Archived Bumps & Commercials/Commercials/AS/2005 Dairy Queen Burger Blizzard Harmonica.mp4',\n",
       " '/Users/bwal/Desktop/Archived Bumps & Commercials/Commercials/AS/2005 MMs Kaleidoscope.mp4',\n",
       " '/Users/bwal/Desktop/Archived Bumps & Commercials/Commercials/AS/2004 TV Guide Weeknights 7pm.mp4',\n",
       " '/Users/bwal/Desktop/Archived Bumps & Commercials/Commercials/AS/2004 Red Bull Robin Hood Archery.mp4',\n",
       " '/Users/bwal/Desktop/Archived Bumps & Commercials/Commercials/AS/2004 Sports Illustrated [September October November December January February].mp4',\n",
       " '/Users/bwal/Desktop/Archived Bumps & Commercials/Commercials/AS/2003 John Schultz Furniture and Matress.mp4',\n",
       " '/Users/bwal/Desktop/Archived Bumps & Commercials/AdultSwim/Bumps/General - How_Much_More_Metal.mp4',\n",
       " '/Volumes/Elements/Broadcast_Shows/Adult Swim/Family Guy/mp4/Subsections/E068B.mp4',\n",
       " '/Users/bwal/Desktop/Archived Bumps & Commercials/AdultSwim/Bumps/General - Technical Difficulties.mp4',\n",
       " '/Users/bwal/Desktop/Archived Bumps & Commercials/Commercials/AS/2005 Sharper Image Fan.mp4',\n",
       " '/Users/bwal/Desktop/Archived Bumps & Commercials/Commercials/AS/2005 Bod Dudes Running Shirtless.mp4',\n",
       " '/Users/bwal/Desktop/Archived Bumps & Commercials/Commercials/AS/2003 Everquest Online Adventures PS2 [November December January February].mp4',\n",
       " '/Users/bwal/Desktop/Archived Bumps & Commercials/Commercials/AS/2004 Scion by Rob Sci-fi Addict.mp4',\n",
       " '/Users/bwal/Desktop/Archived Bumps & Commercials/Commercials/AS/2003 Arbys Italian Beef Provolone.mp4',\n",
       " '/Users/bwal/Desktop/Archived Bumps & Commercials/Commercials/AS/2004 Chilis Forget the Freezer.mp4',\n",
       " '/Users/bwal/Desktop/Archived Bumps & Commercials/Commercials/AS/2006 Westwood College Criminal Justice.mp4',\n",
       " '/Users/bwal/Desktop/Archived Bumps & Commercials/AdultSwim/Bumps/General - New_Proposed_Holidays.mp4',\n",
       " '/Volumes/Elements/Broadcast_Shows/Adult Swim/Family Guy/mp4/Subsections/E068C.mp4',\n",
       " '/Users/bwal/Desktop/Archived Bumps & Commercials/AdultSwim/Bumps/General - The_Pocaclypse.mp4',\n",
       " '/Users/bwal/Desktop/Archived Bumps & Commercials/AdultSwim/Promo_Commercials/2004 Adult Swim Ghost in the Shell Standalone Complex Promo 2 [December January February].mp4',\n",
       " '/Users/bwal/Desktop/Archived Bumps & Commercials/Commercials/AS/2005 Cox Repair Technician.mp4',\n",
       " '/Users/bwal/Desktop/Archived Bumps & Commercials/Commercials/AS/2005 Skittles Lumberjacks Chewing Trees.mp4',\n",
       " '/Users/bwal/Desktop/Archived Bumps & Commercials/AdultSwim/Bumps/General - Blasphemous_Heathens.mp4',\n",
       " '/Volumes/Elements/Broadcast_Shows/Adult Swim/Futurama/mp4/Subsections/E054A.mp4',\n",
       " '/Users/bwal/Desktop/Archived Bumps & Commercials/AdultSwim/Bumps/Futurama - Chill Fry.mp4',\n",
       " '/Users/bwal/Desktop/Archived Bumps & Commercials/Commercials/AS/2004 Taco Bell Chicken Taco.mp4',\n",
       " '/Users/bwal/Desktop/Archived Bumps & Commercials/Commercials/AS/2006 Cox Communications Old People Dialing Phone.mp4',\n",
       " '/Users/bwal/Desktop/Archived Bumps & Commercials/Commercials/AS/2005 Axe The Axe Effect-.mp4',\n",
       " '/Users/bwal/Desktop/Archived Bumps & Commercials/Commercials/AS/2003 Monday Night RAW SpikeTV.mp4',\n",
       " '/Users/bwal/Desktop/Archived Bumps & Commercials/Commercials/AS/2005 Laser Straight.mp4',\n",
       " '/Users/bwal/Desktop/Archived Bumps & Commercials/Commercials/AS/2002 Lifetime Kennedy Health.mp4',\n",
       " '/Users/bwal/Desktop/Archived Bumps & Commercials/Commercials/AS/2005 Burger King Surgery to eat Whopper.mp4',\n",
       " '/Users/bwal/Desktop/Archived Bumps & Commercials/Commercials/AS/2005 Sonic Breakfast Sandwiches Texas Toast.mp4',\n",
       " '/Users/bwal/Desktop/Archived Bumps & Commercials/AdultSwim/Bumps/General - Birdman Game.mp4',\n",
       " '/Volumes/Elements/Broadcast_Shows/Adult Swim/Futurama/mp4/Subsections/E054B.mp4',\n",
       " '/Users/bwal/Desktop/Archived Bumps & Commercials/AdultSwim/Bumps/General - Rejected Venture Bros Billboards.mp4',\n",
       " '/Users/bwal/Desktop/Archived Bumps & Commercials/Commercials/AS/2006 Verizon Wireless Chocolate Phone.mp4',\n",
       " '/Users/bwal/Desktop/Archived Bumps & Commercials/Commercials/AS/2003 All New Dodge Durango 04 Men Talking in Bathroom.mp4',\n",
       " '/Users/bwal/Desktop/Archived Bumps & Commercials/Commercials/AS/2006 Adidas Basketball-.mp4',\n",
       " '/Users/bwal/Desktop/Archived Bumps & Commercials/Commercials/AS/2003 Just Married DVD.mp4',\n",
       " '/Users/bwal/Desktop/Archived Bumps & Commercials/Commercials/AS/2002 ATT Space Ghost.mp4',\n",
       " '/Users/bwal/Desktop/Archived Bumps & Commercials/AdultSwim/Promo_Commercials/2004 Adult Swim Old School Anime at 1 am [October November December January February March].mp4',\n",
       " '/Users/bwal/Desktop/Archived Bumps & Commercials/Commercials/AS/2003 John Schultz Furniture and Matress.mp4',\n",
       " '/Users/bwal/Desktop/Archived Bumps & Commercials/Commercials/AS/2005 Vehix Website.mp4',\n",
       " '/Users/bwal/Desktop/Archived Bumps & Commercials/Commercials/AS/2004 Xavix Tennis.mp4',\n",
       " '/Users/bwal/Desktop/Archived Bumps & Commercials/AdultSwim/Bumps/General - Pirate Shit.mp4',\n",
       " '/Volumes/Elements/Broadcast_Shows/Adult Swim/Futurama/mp4/Subsections/E054C.mp4',\n",
       " '/Users/bwal/Desktop/Archived Bumps & Commercials/AdultSwim/Bumps/General - Dinosaur_Tracks.mp4',\n",
       " '/Users/bwal/Desktop/Archived Bumps & Commercials/AdultSwim/Promo_Commercials/2001 Adult Swim Aquaman Dancing Supermarket.mp4',\n",
       " '/Users/bwal/Desktop/Archived Bumps & Commercials/Commercials/AS/2005 Chilis The Usual.mp4',\n",
       " '/Users/bwal/Desktop/Archived Bumps & Commercials/Commercials/AS/2004 Parental Control.mp4',\n",
       " '/Users/bwal/Desktop/Archived Bumps & Commercials/AdultSwim/Bumps/General - Blueprint_to_Excellents_Pt_3.mp4',\n",
       " '/Volumes/Elements/Broadcast_Shows/Adult Swim/Robot Chicken/mp4/Subsections/E052A.mp4',\n",
       " '/Users/bwal/Desktop/Archived Bumps & Commercials/AdultSwim/Bumps/General - Patti Smith.mp4',\n",
       " '/Users/bwal/Desktop/Archived Bumps & Commercials/AdultSwim/Promo_Commercials/2001 Adult Swim Aqua Teen Sunday 11.mp4',\n",
       " '/Users/bwal/Desktop/Archived Bumps & Commercials/Commercials/AS/2004 Burger King Flame Broiled Grill.mp4',\n",
       " '/Users/bwal/Desktop/Archived Bumps & Commercials/Commercials/AS/2005 Juicy Drop Pop.mp4',\n",
       " '/Users/bwal/Desktop/Archived Bumps & Commercials/Commercials/AS/2003 Gillette Sensor.mp4',\n",
       " '/Users/bwal/Desktop/Archived Bumps & Commercials/Commercials/AS/2006 AXE Tag Body Spray Two Women at Door.mp4',\n",
       " '/Users/bwal/Desktop/Archived Bumps & Commercials/AdultSwim/Bumps/General - Paint by Numbers Pig.mp4',\n",
       " '/Volumes/Elements/Broadcast_Shows/Adult Swim/Harvey Birdman/mp4/Subsections/E010A.mp4',\n",
       " '/Users/bwal/Desktop/Archived Bumps & Commercials/AdultSwim/Bumps/Bump - Zorak Was Here.mp4',\n",
       " '/Users/bwal/Desktop/Archived Bumps & Commercials/AdultSwim/Promo_Commercials/2004 Adult Swim Ghost in the Shell Standalone Complex Promo 2 [December January February].mp4',\n",
       " '/Users/bwal/Desktop/Archived Bumps & Commercials/Commercials/AS/2006 83Future Working from Home.mp4',\n",
       " '/Users/bwal/Desktop/Archived Bumps & Commercials/AdultSwim/Bumps/Intro - Inuyasha Tokyo.mp4',\n",
       " '/Volumes/Elements/Broadcast_Shows/Adult Swim/Inuyasha/mp4/Subsections/E034A.mp4',\n",
       " '/Users/bwal/Desktop/Archived Bumps & Commercials/AdultSwim/Bumps/Inuyasha - Fade Out.mp4',\n",
       " '/Users/bwal/Desktop/Archived Bumps & Commercials/Commercials/AS/2005 Taco Bell Late Night Camping.mp4',\n",
       " '/Users/bwal/Desktop/Archived Bumps & Commercials/Commercials/AS/2005 That 70s Show DVD.mp4',\n",
       " '/Users/bwal/Desktop/Archived Bumps & Commercials/Commercials/AS/2003 Gateway Local Comic and Card Shop.mp4',\n",
       " '/Users/bwal/Desktop/Archived Bumps & Commercials/Commercials/AS/2005 Fat Joe Boost Mobile.mp4',\n",
       " '/Users/bwal/Desktop/Archived Bumps & Commercials/Commercials/AS/2003 1800 Collect TV Store Multiple Displays.mp4',\n",
       " '/Users/bwal/Desktop/Archived Bumps & Commercials/Commercials/AS/2003 Trix Yogurt Basketball Game.mp4',\n",
       " '/Users/bwal/Desktop/Archived Bumps & Commercials/Commercials/AS/2004 McDonalds Monopoly Traffic.mp4',\n",
       " '/Users/bwal/Desktop/Archived Bumps & Commercials/Commercials/AS/2004 Taco Bell Value Menu.mp4',\n",
       " '/Users/bwal/Desktop/Archived Bumps & Commercials/AdultSwim/Bumps/Inuyasha - Fade In.mp4',\n",
       " '/Volumes/Elements/Broadcast_Shows/Adult Swim/Inuyasha/mp4/Subsections/E034B.mp4',\n",
       " '/Users/bwal/Desktop/Archived Bumps & Commercials/AdultSwim/Bumps/Bump - Williams Street Future.mp4',\n",
       " '/Users/bwal/Desktop/Archived Bumps & Commercials/AdultSwim/Promo_Commercials/2005 Harvey Birdman Sundays at 1130pm Promo [January February March].mp4',\n",
       " '/Users/bwal/Desktop/Archived Bumps & Commercials/Commercials/AS/2005 Sonic Slushees.mp4',\n",
       " '/Users/bwal/Desktop/Archived Bumps & Commercials/Commercials/AS/2004 Time Warner Cable Roadrunner Partnership Package.mp4',\n",
       " '/Users/bwal/Desktop/Archived Bumps & Commercials/Commercials/AS/2005 McDonalds Guy on Car.mp4',\n",
       " '/Users/bwal/Desktop/Archived Bumps & Commercials/AdultSwim/Bumps/Intro - Cowboy Bebop.mp4',\n",
       " '/Volumes/Elements/Broadcast_Shows/Adult Swim/Cowboy Bebop/mp4/Subsections/Cowboy Bebop 007 Heavy Metal Queen_000.mp4',\n",
       " '/Users/bwal/Desktop/Archived Bumps & Commercials/AdultSwim/Bumps/Cowboy Bebop - Fade Out.mp4',\n",
       " '/Users/bwal/Desktop/Archived Bumps & Commercials/Commercials/AS/2003 1800 Collect ATT Biker in Park.mp4',\n",
       " '/Users/bwal/Desktop/Archived Bumps & Commercials/Commercials/AS/2005 Peanut Butter Creme Oreo.mp4',\n",
       " '/Users/bwal/Desktop/Archived Bumps & Commercials/Commercials/AS/2003 Nike VC Nikelab.mp4',\n",
       " '/Users/bwal/Desktop/Archived Bumps & Commercials/Commercials/AS/2005 Sonic Breakfast Burritos.mp4',\n",
       " '/Users/bwal/Desktop/Archived Bumps & Commercials/Commercials/AS/2006 PSP Girl at Concert.mp4',\n",
       " '/Users/bwal/Desktop/Archived Bumps & Commercials/AdultSwim/Promo_Commercials/2005 AdultSwim Website Your Personal Decorator [February March].mp4',\n",
       " '/Users/bwal/Desktop/Archived Bumps & Commercials/Commercials/AS/2003 Juicy Fruit Office Disguises.mp4',\n",
       " '/Users/bwal/Desktop/Archived Bumps & Commercials/Commercials/AS/2006 ACT Restoring Mouthwash.mp4',\n",
       " '/Users/bwal/Desktop/Archived Bumps & Commercials/Commercials/AS/2003 Children Miracle Network.mp4',\n",
       " '/Users/bwal/Desktop/Archived Bumps & Commercials/Commercials/AS/2004 Xavix Baseball Game.mp4',\n",
       " '/Users/bwal/Desktop/Archived Bumps & Commercials/AdultSwim/Bumps/Cowboy Bebop - Fade In.mp4',\n",
       " '/Volumes/Elements/Broadcast_Shows/Adult Swim/Cowboy Bebop/mp4/Subsections/Cowboy Bebop 007 Heavy Metal Queen_001.mp4',\n",
       " '/Users/bwal/Desktop/Archived Bumps & Commercials/AdultSwim/Bumps/Bump - Fuel Tank.mp4',\n",
       " '/Users/bwal/Desktop/Archived Bumps & Commercials/AdultSwim/Promo_Commercials/Adult Swim - Wilma and Snagglepuss at Water Cooler 2001 2002 [January February March].mp4',\n",
       " '/Users/bwal/Desktop/Archived Bumps & Commercials/Commercials/AS/2005 Sobe Adrenaline Rush.mp4',\n",
       " '/Users/bwal/Desktop/Archived Bumps & Commercials/Commercials/AS/2003 Sonic Breakfast Sandwich.mp4',\n",
       " '/Users/bwal/Desktop/Archived Bumps & Commercials/Commercials/AS/2004 Local Business Golden Chick.mp4',\n",
       " '/Users/bwal/Desktop/Archived Bumps & Commercials/AdultSwim/Bumps/Intro - Case Closed.mp4',\n",
       " '/Volumes/Elements/Broadcast_Shows/Adult Swim/Case Closed/mp4/Subsections/E001A.mp4',\n",
       " '/Users/bwal/Desktop/Archived Bumps & Commercials/AdultSwim/Bumps/Case Closed - Fade Out.mp4',\n",
       " '/Users/bwal/Desktop/Archived Bumps & Commercials/Commercials/AS/2006 Above the Influence Answering the Phone.mp4',\n",
       " '/Users/bwal/Desktop/Archived Bumps & Commercials/Commercials/AS/2005 Digiorno.mp4',\n",
       " '/Users/bwal/Desktop/Archived Bumps & Commercials/Commercials/AS/2006 KFC Snacker Stuck in Traffic.mp4',\n",
       " '/Users/bwal/Desktop/Archived Bumps & Commercials/Commercials/AS/2005 Nike ID Hearing Aid.mp4',\n",
       " '/Users/bwal/Desktop/Archived Bumps & Commercials/Commercials/AS/2005 Skittles Sheep.mp4',\n",
       " '/Users/bwal/Desktop/Archived Bumps & Commercials/Commercials/AS/2006 Hersheys Kisses Chocolate Cookie.mp4',\n",
       " '/Users/bwal/Desktop/Archived Bumps & Commercials/Commercials/AS/2005 Doo Wop Gold.mp4',\n",
       " '/Users/bwal/Desktop/Archived Bumps & Commercials/Commercials/AS/2004 Juicy Fruit Pinata Party.mp4',\n",
       " '/Users/bwal/Desktop/Archived Bumps & Commercials/AdultSwim/Bumps/Case Closed - Fade In.mp4',\n",
       " '/Volumes/Elements/Broadcast_Shows/Adult Swim/Case Closed/mp4/Subsections/E001B.mp4']"
      ]
     },
     "execution_count": 8,
     "metadata": {},
     "output_type": "execute_result"
    }
   ],
   "source": [
    "master_order"
   ]
  },
  {
   "cell_type": "code",
   "execution_count": 9,
   "id": "c7227994-b367-49e2-9323-ade2d7e9a957",
   "metadata": {},
   "outputs": [
    {
     "name": "stdout",
     "output_type": "stream",
     "text": [
      "/Users/bwal/Documents/Block Dump/Blocks/ AS_Python_Class.txt\n",
      "<class 'str'> <class 'str'>\n",
      "/Users/bwal/Documents/Block Dump/Blocks/AS_Python_Class.txt\n"
     ]
    }
   ],
   "source": [
    "block.write_past_shows(master_order,shows)\n",
    "block.write_past_bumps(master_order,bump_dict)\n",
    "block.save_to_txt(master_order,'AS_Python_Class.txt')"
   ]
  },
  {
   "cell_type": "code",
   "execution_count": null,
   "id": "4ec4b1c4-b290-43a9-a385-71c6db67c300",
   "metadata": {},
   "outputs": [],
   "source": []
  }
 ],
 "metadata": {
  "kernelspec": {
   "display_name": "Python 3 (ipykernel)",
   "language": "python",
   "name": "python3"
  },
  "language_info": {
   "codemirror_mode": {
    "name": "ipython",
    "version": 3
   },
   "file_extension": ".py",
   "mimetype": "text/x-python",
   "name": "python",
   "nbconvert_exporter": "python",
   "pygments_lexer": "ipython3",
   "version": "3.9.12"
  }
 },
 "nbformat": 4,
 "nbformat_minor": 5
}
