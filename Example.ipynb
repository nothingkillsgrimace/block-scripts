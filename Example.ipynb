{
 "cells": [
  {
   "cell_type": "code",
   "execution_count": 1,
   "id": "000a5027",
   "metadata": {},
   "outputs": [],
   "source": [
    "import numpy as np\n",
    "\n",
    "import _functions\n",
    "from _functions import Block_Assembler"
   ]
  },
  {
   "cell_type": "code",
   "execution_count": 2,
   "id": "61275968-5e2b-4654-a3d3-cd21f668960c",
   "metadata": {},
   "outputs": [],
   "source": [
    "filepaths={\n",
    "    'past_episodes':'/Volumes/Media/Blocks/past_eps_used/',\n",
    "    'save_path':'/Volumes/Media/Blocks/',\n",
    "    'past_bumps':'/Volumes/Media/Blocks/past_bumps_used/',\n",
    "    'shows':{\n",
    "        'Nick at Nite':'/Volumes/Media/Broadcast_Shows/Nick at Nite/',\n",
    "        'Adult Swim':'/Volumes/Media/Broadcast_Shows/Adult Swim/',\n",
    "        'Cartoon Network':'/Volumes/Media/Broadcast_Shows/Cartoon Network/',\n",
    "        'FOX':'/Volumes/Media/Broadcast_Shows/FOX/',\n",
    "        'Toonami':'/Volumes/Media/Broadcast_Shows/Toonami/',\n",
    "        'Boomerang':'/Volumes/Media/Broadcast_Shows/Boomerang/',\n",
    "    },\n",
    "    'all_commercials':{\n",
    "        #'Adult Swim':'/Volumes/Media/Archived Bumps & Commercials/Commercials/AS/',\n",
    "        'Nick at Nite':'/Volumes/Media/Archived Bumps & Commercials/Commercials/Nick at Nite/',\n",
    "        #'FOX':'/Volumes/Media/Archived Bumps & Commercials/Commercials/FOX/',\n",
    "        #'Cartoon Network':'/Volumes/Media/Archived Bumps & Commercials/Commercials/CN/'\n",
    "    },\n",
    "        \n",
    "    \n",
    "    'Adult Swim':{\n",
    "        'clips':{\n",
    "            'commercials':'/Volumes/Media/Archived Bumps & Commercials/Commercials/AS/',\n",
    "            'promos':'/Volumes/Media/Archived Bumps & Commercials/AdultSwim/Promo_Commercials/',\n",
    "            'bumps':'/Volumes/Media/Archived Bumps & Commercials/AdultSwim/Bumps/'\n",
    "        },\n",
    "        'bump_logs':{\n",
    "            'as_general':{\n",
    "                'keyword':'General -',\n",
    "                'filename':'as_general.txt'\n",
    "            },\n",
    "            'as_picture':{\n",
    "                'keyword':'Bump -',\n",
    "                'filename':'as_bumps.txt'\n",
    "            },\n",
    "        },\n",
    "    },\n",
    "    \n",
    "    'Boomerang':{\n",
    "        'clips':{\n",
    "            'commercials':'/Volumes/Media/Archived Bumps & Commercials/Commercials/CN/',\n",
    "            'promos_cn':'/Volumes/Media/Archived Bumps & Commercials/Cartoon Network/Promo_Commercials/',\n",
    "            'bumps':'/Volumes/Media/Archived Bumps & Commercials/Boomerang/Bumps/',\n",
    "        },\n",
    "    },\n",
    "    \n",
    "    'Nick at Nite':{\n",
    "        'clips':{\n",
    "            'commercials':'/Volumes/Media/Archived Bumps & Commercials/Commercials/Nick at Nite/',\n",
    "            'promos':'/Volumes/Media/Archived Bumps & Commercials/Nick at Nite/Promos/',\n",
    "            'bumps':'/Volumes/Media/Archived Bumps & Commercials/Nick at Nite/Bumps/Jingles/',\n",
    "            'schedules':'/Volumes/Media/Archived Bumps & Commercials/Nick at Nite/Bumps/'\n",
    "        },\n",
    "    },\n",
    "    \n",
    "    'Cartoon Network':{\n",
    "        'clips':{\n",
    "            'commercials':'/Volumes/Media/Archived Bumps & Commercials/Commercials/CN/',\n",
    "            'promos_cn':'/Volumes/Media/Archived Bumps & Commercials/Cartoon Network/Promo_Commercials/',\n",
    "            'promos_ccf':'/Volumes/Media/Archived Bumps & Commercials/Cartoon Network/Promo_Commercials/CCF/Powerhouse Fridays/',\n",
    "            'promos_toonami':'/Volumes/Media/Archived Bumps & Commercials/Toonami/Promo_Commercials/TOM 3 Weekend/',\n",
    "            'bumps':'/Volumes/Media/Archived Bumps & Commercials/Cartoon Network/Bumps/CN City/Bumps/',\n",
    "            'schedules':'/Volumes/Media/Archived Bumps & Commercials/Cartoon Network/Bumps/CN City/Now Then/'\n",
    "        },\n",
    "    },\n",
    "    \n",
    "    'Toonami':{\n",
    "    },\n",
    "    \n",
    "    'FOX':{\n",
    "        'clips':{\n",
    "            'commercials':'/Volumes/Media/Archived Bumps & Commercials/Commercials/FOX/',\n",
    "            'promos':'/Volumes/Media/Archived Bumps & Commercials/FOX/Promos/',\n",
    "            'bumps':'/Volumes/Media/Archived Bumps & Commercials/FOX/Bumps/',\n",
    "        },\n",
    "    },\n",
    "    \n",
    "    #Placeholder dictionary - you don't actually have to put anything here\n",
    "    'Custom':{\n",
    "    }\n",
    "            \n",
    "    \n",
    "}"
   ]
  },
  {
   "cell_type": "code",
   "execution_count": 3,
   "id": "180364b6-2c31-4576-842e-850766809761",
   "metadata": {},
   "outputs": [],
   "source": [
    "#shows=['Family Guy', 'Futurama','Robot Chicken','Harvey Birdman','Inuyasha','Cowboy Bebop','Case Closed']\n",
    "#shows=['Simpsons','Dick Van Dyke','Ed Edd n Eddy','Powerpuff Girls','Family Guy']\n",
    "#shows=['Simpsons','King of the Hill','Malcom in the Middle','X Files']\n",
    "#shows=['Dick Van Dyke', 'Get Smart', 'The Munsters', 'Mary Tyler Moore', 'Happy Days', 'The Wonder Years']\n",
    "#shows=['New Scooby Doo Movies','Jetsons','Atom Ant']\n",
    "shows=['Ed Edd n Eddy','Ed Edd n Eddy']*24"
   ]
  },
  {
   "cell_type": "code",
   "execution_count": 4,
   "id": "e514ab2b-c6c4-4dce-b28c-95f3459a3071",
   "metadata": {},
   "outputs": [],
   "source": [
    "type_dict={\n",
    "    'Dick Van Dyke':'serial',\n",
    "    'Family Guy':'episodic',\n",
    "    'Futurama':'episodic',\n",
    "    'Get Smart':'serial',\n",
    "    'Happy Days':'serial',\n",
    "    'King of the Hill':'serial',\n",
    "    'Malcom in the Middle':'serial',\n",
    "    'Mary Tyler Moore':'serial',\n",
    "    'Robot Chicken':'episodic',\n",
    "    'Harvey Birdman':'episodic',\n",
    "    'Inuyasha':'serial',\n",
    "    'Cowboy Bebop':'serial',\n",
    "    'Case Closed':'serial',\n",
    "    'Simpsons':'episodic',\n",
    "    'The Munsters':'serial',\n",
    "    'The Wonder Years':'serial',\n",
    "    'X Files':'serial',\n",
    "    'Powerpuff Girls':'episodic',\n",
    "    'Ed Edd n Eddy':'episodic',\n",
    "    'Johnny Bravo':'episodic',\n",
    "    'Dexters Laboratory':'episodic',\n",
    "    'New Scooby Doo Movies':'episodic',\n",
    "    'Cow and Chicken':'episodic',\n",
    "    'Codename Kids Next Door':'episodic',\n",
    "    'The Grim Adventures of Billy and Mandy':'episodic',\n",
    "    'Samurai Jack':'episodic',\n",
    "    'Jetsons':'episodic',\n",
    "    'Atom Ant':'episodic',\n",
    "}"
   ]
  },
  {
   "cell_type": "code",
   "execution_count": 5,
   "id": "0c01c27f-5678-48b8-82ec-f678592f4af9",
   "metadata": {},
   "outputs": [],
   "source": [
    "block=Block_Assembler(\n",
    "    'Cartoon Network',\n",
    "    filepaths,\n",
    "    shows,\n",
    "    type_dict,\n",
    ")"
   ]
  },
  {
   "cell_type": "code",
   "execution_count": 6,
   "id": "ee3c9a17-d621-4917-9127-61aed2c75bcb",
   "metadata": {
    "tags": []
   },
   "outputs": [
    {
     "name": "stdout",
     "output_type": "stream",
     "text": [
      "bump_logs path not specified in filepaths dictionary. Please update this and try again.\n",
      "Reusing bumps...\n",
      "Done!\n"
     ]
    }
   ],
   "source": [
    "master_order=block.generate(use_all_commercials=False,reuse_bumps=False,recalc_length=False)"
   ]
  },
  {
   "cell_type": "code",
   "execution_count": null,
   "id": "755721f4-fce5-4102-84d0-dc86ca90f4a1",
   "metadata": {},
   "outputs": [],
   "source": [
    "master_order"
   ]
  },
  {
   "cell_type": "code",
   "execution_count": null,
   "id": "6b9c3139-19d8-4284-9af9-e50367ba2855",
   "metadata": {
    "tags": []
   },
   "outputs": [],
   "source": [
    "[i for i,s in enumerate(master_order) if s.startswith('BREAK END')]"
   ]
  },
  {
   "cell_type": "code",
   "execution_count": 7,
   "id": "9276cdfa-e69d-4ad4-a925-60949f0aeb01",
   "metadata": {},
   "outputs": [],
   "source": [
    "no_break_order=[entry for entry in master_order if not entry.startswith('BREAK END')]"
   ]
  },
  {
   "cell_type": "code",
   "execution_count": 8,
   "id": "5f25ddb5-2db9-4f80-8617-44e6b47f0eef",
   "metadata": {},
   "outputs": [
    {
     "data": {
      "text/plain": [
       "86472"
      ]
     },
     "execution_count": 8,
     "metadata": {},
     "output_type": "execute_result"
    }
   ],
   "source": [
    "_functions.length_vids(no_break_order).sum()"
   ]
  },
  {
   "cell_type": "code",
   "execution_count": 9,
   "id": "decf1855-775e-4bed-9b79-84e13a1740f0",
   "metadata": {},
   "outputs": [
    {
     "data": {
      "text/plain": [
       "86400"
      ]
     },
     "execution_count": 9,
     "metadata": {},
     "output_type": "execute_result"
    }
   ],
   "source": [
    "60*60*24"
   ]
  },
  {
   "cell_type": "code",
   "execution_count": null,
   "id": "2a258eb5-f928-4177-aaec-ae26ac58d1f1",
   "metadata": {},
   "outputs": [],
   "source": [
    "bleh=['yep']"
   ]
  },
  {
   "cell_type": "code",
   "execution_count": null,
   "id": "03475f78-a3fa-4d92-9fc5-4609346678cf",
   "metadata": {},
   "outputs": [],
   "source": [
    "if not bleh:\n",
    "    print('hey')"
   ]
  },
  {
   "cell_type": "code",
   "execution_count": null,
   "id": "afb36519-b8f2-4364-8ec3-6ea01c3125a1",
   "metadata": {
    "tags": []
   },
   "outputs": [],
   "source": [
    "master_order[:24]"
   ]
  },
  {
   "cell_type": "code",
   "execution_count": null,
   "id": "c7227994-b367-49e2-9323-ade2d7e9a957",
   "metadata": {},
   "outputs": [],
   "source": [
    "#block.write_past_shows(master_order,shows)\n",
    "#block.write_past_bumps(master_order,block.bumpdict)\n",
    "#block.save_to_txt(master_order,'fixed_commercial_block.txt')"
   ]
  },
  {
   "cell_type": "code",
   "execution_count": null,
   "id": "a56dc809-e6af-4ade-98da-89ea9d4d5d60",
   "metadata": {},
   "outputs": [],
   "source": [
    "#top5_list=block.Top_5(master_order,shows,2,block.clip_dict,block.probability_dict,block.length_dict)"
   ]
  },
  {
   "cell_type": "code",
   "execution_count": null,
   "id": "3c0ba1e5-3df4-46e0-96a9-1153bd39ddee",
   "metadata": {},
   "outputs": [],
   "source": [
    "#top5_bumps=_functions.get_full_path('/Users/bwal/Desktop/Archived Bumps & Commercials/Cartoon Network/Bumps/Top 5/')"
   ]
  },
  {
   "cell_type": "code",
   "execution_count": null,
   "id": "fccad570-0ad0-415b-8bdc-76e64fde9522",
   "metadata": {},
   "outputs": [],
   "source": [
    "#top5_bumps[np.array(['2002' in tb for tb in top5_bumps])==True][0]"
   ]
  },
  {
   "cell_type": "code",
   "execution_count": null,
   "id": "e1b17282-45c4-416e-9095-5dea76ab1b73",
   "metadata": {},
   "outputs": [],
   "source": [
    "#block.possible_shows[np.array(['Ed Edd n Eddy' in ps for ps in block.possible_shows])==True][0]"
   ]
  },
  {
   "cell_type": "code",
   "execution_count": null,
   "id": "756aff90-6270-4626-b7cc-43a02d7be503",
   "metadata": {},
   "outputs": [],
   "source": [
    "#top5_list"
   ]
  },
  {
   "cell_type": "code",
   "execution_count": null,
   "id": "5d599d78-3171-4fdc-90c1-2e95338f760c",
   "metadata": {},
   "outputs": [],
   "source": [
    "#block.save_to_txt(master_order,'fixed_commercial_block.txt')"
   ]
  },
  {
   "cell_type": "code",
   "execution_count": null,
   "id": "5df5c170-2918-4e76-bc24-c2bf4eb9d85c",
   "metadata": {},
   "outputs": [],
   "source": []
  }
 ],
 "metadata": {
  "kernelspec": {
   "display_name": "Python 3 (ipykernel)",
   "language": "python",
   "name": "python3"
  },
  "language_info": {
   "codemirror_mode": {
    "name": "ipython",
    "version": 3
   },
   "file_extension": ".py",
   "mimetype": "text/x-python",
   "name": "python",
   "nbconvert_exporter": "python",
   "pygments_lexer": "ipython3",
   "version": "3.9.12"
  }
 },
 "nbformat": 4,
 "nbformat_minor": 5
}
